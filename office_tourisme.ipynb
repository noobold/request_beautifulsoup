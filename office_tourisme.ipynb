{
 "cells": [
  {
   "cell_type": "markdown",
   "metadata": {},
   "source": [
    "# scrapping\n",
    "listé les adresses + numerode téléphone de tout les offices de tourisme sur le site : http://www.guidedutourisme.net/offices-de-tourisme.html<br>\n",
    "but du doc : juste avoir une base hors ligne pour une personne ne possédant pas internet.<br>\n",
    "Il va falloir lister les regions, puis ouvrir chaques page de region puis chaque page des offices de toursime<br>\n",
    "Au final 2603 pages à ouvrir<br>.\n"
   ]
  },
  {
   "cell_type": "code",
   "execution_count": 1,
   "metadata": {},
   "outputs": [],
   "source": [
    "# import des bibliotheques\n",
    "import time\n",
    "import requests\n",
    "import pandas as pd\n",
    "from bs4 import BeautifulSoup as bs"
   ]
  },
  {
   "cell_type": "markdown",
   "metadata": {},
   "source": [
    "## récupération des adresse des page regions"
   ]
  },
  {
   "cell_type": "code",
   "execution_count": 2,
   "metadata": {},
   "outputs": [
    {
     "name": "stdout",
     "output_type": "stream",
     "text": [
      "200\n"
     ]
    }
   ],
   "source": [
    "# demander la page principale et vérifié le code (200 == OK) \n",
    "page_princ_request = requests.get(url='http://www.guidedutourisme.net/offices-de-tourisme.html')\n",
    "print(page_princ_request.status_code)"
   ]
  },
  {
   "cell_type": "code",
   "execution_count": 3,
   "metadata": {},
   "outputs": [],
   "source": [
    "#utilisé beautifulsoup pour parser la page\n",
    "page_princ_soup = bs(page_princ_request.text,'html.parser')"
   ]
  },
  {
   "cell_type": "code",
   "execution_count": 4,
   "metadata": {},
   "outputs": [],
   "source": [
    "#voir pour recupérer les adresses\n",
    "lien_region = []\n",
    "nom_region = []\n",
    "\n",
    "#ne prendre que la premiere table\n",
    "region = page_princ_soup.findAll('tr')[0]\n",
    "\n",
    "#prendre que les balise contenant nom region et le lien\n",
    "region = region.findAll('a') \n",
    "\n",
    "#ne prendre que le nom\n",
    "\n",
    "\n",
    "for link in region:\n",
    "    lien_region.append('http://www.guidedutourisme.net'+link.get('href'))\n",
    "    nom_region.append(link.text)\n"
   ]
  },
  {
   "cell_type": "markdown",
   "metadata": {},
   "source": [
    "## récupération des pages des offices de tourismes"
   ]
  },
  {
   "cell_type": "code",
   "execution_count": 5,
   "metadata": {},
   "outputs": [],
   "source": [
    "#requete des pages (time sleep pour pas trop surcharger le serveurs)\n",
    "page_region = {}\n",
    "for lien,nom in zip(lien_region,nom_region):\n",
    "    page_region[nom] = requests.get(lien)    \n",
    "    time.sleep(1)"
   ]
  },
  {
   "cell_type": "code",
   "execution_count": 6,
   "metadata": {},
   "outputs": [],
   "source": [
    "#transformer les pages avec beautifulsoup\n",
    "page_region_soup = {}\n",
    "\n",
    "for nom in nom_region:\n",
    "    page_region_soup[nom] = bs(page_region[nom].text,'html.parser')\n",
    "\n",
    "#page_region devient inutile\n",
    "del page_region"
   ]
  },
  {
   "cell_type": "code",
   "execution_count": 7,
   "metadata": {},
   "outputs": [],
   "source": [
    "lien_office = []\n",
    "for nom in nom_region:\n",
    "    for link in page_region_soup[nom].findAll('a',string=\"Consulter la fiche détaillée de l'organisme\"):\n",
    "        lien_office.append('http://www.guidedutourisme.net'+link.get('href'))\n",
    "    "
   ]
  },
  {
   "cell_type": "code",
   "execution_count": 8,
   "metadata": {},
   "outputs": [],
   "source": [
    "##requetes page des offices de tourisme\n",
    "page_office = []\n",
    "for link in lien_office:\n",
    "    page_office.append(requests.get(link))\n",
    "    time.sleep(0.2)"
   ]
  },
  {
   "cell_type": "code",
   "execution_count": 9,
   "metadata": {},
   "outputs": [],
   "source": [
    "# transformer les pages avec beautifulsoup\n",
    "office_soup = []\n",
    "for page in page_office:\n",
    "    office_soup.append(bs(page.text,'html.parser'))"
   ]
  },
  {
   "cell_type": "code",
   "execution_count": 10,
   "metadata": {},
   "outputs": [
    {
     "data": {
      "text/plain": [
       "[<p>Maison De La Vallee 114 Grand Rue<br/>67130 Schirmeck<br/><br/>150 Route De La Serva  <br/>67130 Belmont</p>,\n",
       " <p>03.88.47.18.51  - Schirmeck<br/><br/>03.88.97.39.50  - Belmont</p>,\n",
       " <p style=\"letter-spacing: 0.2px;line-height:1.7;margin-bottom:10px;color:#8c8c8c;font-family:Open sans;\">Restez informer des dernières nouveautés de notre guide, des promos ainsi que des évenements.</p>]"
      ]
     },
     "execution_count": 10,
     "metadata": {},
     "output_type": "execute_result"
    }
   ],
   "source": [
    "\n",
    "office_soup[1].findAll('p')"
   ]
  },
  {
   "cell_type": "code",
   "execution_count": 11,
   "metadata": {},
   "outputs": [
    {
     "data": {
      "text/plain": [
       "'67130 Schirmeck '"
      ]
     },
     "execution_count": 11,
     "metadata": {},
     "output_type": "execute_result"
    }
   ],
   "source": [
    "office_soup[1].findAll('h3')[0].text"
   ]
  },
  {
   "cell_type": "code",
   "execution_count": 12,
   "metadata": {},
   "outputs": [],
   "source": [
    "tel = []\n",
    "adr = []\n",
    "ville = []\n",
    "for page in office_soup:\n",
    "    ville.append(page.findAll('h3')[0].text)\n",
    "    adr.append(page.findAll('p')[0].text)\n",
    "    tel.append(page.findAll('p')[1].text)"
   ]
  },
  {
   "cell_type": "markdown",
   "metadata": {},
   "source": [
    "# création du fichier"
   ]
  },
  {
   "cell_type": "code",
   "execution_count": 13,
   "metadata": {},
   "outputs": [],
   "source": [
    "#faire le dataframe\n",
    "csv_final = pd.DataFrame(list(zip(ville,tel,adr)),columns=['ville','telephone','adresse'])\n",
    "#classé par ville\n",
    "csv_final.sort_values(by='ville',inplace=True)"
   ]
  },
  {
   "cell_type": "code",
   "execution_count": 14,
   "metadata": {},
   "outputs": [],
   "source": [
    "#exporter le fichier\n",
    "csv_final.to_csv('fichier_office.csv',index=False)"
   ]
  }
 ],
 "metadata": {
  "kernelspec": {
   "display_name": "Python 3 (ipykernel)",
   "language": "python",
   "name": "python3"
  },
  "language_info": {
   "codemirror_mode": {
    "name": "ipython",
    "version": 3
   },
   "file_extension": ".py",
   "mimetype": "text/x-python",
   "name": "python",
   "nbconvert_exporter": "python",
   "pygments_lexer": "ipython3",
   "version": "3.11.5"
  }
 },
 "nbformat": 4,
 "nbformat_minor": 4
}
